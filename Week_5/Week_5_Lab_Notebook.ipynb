{
 "cells": [
  {
   "cell_type": "markdown",
   "metadata": {},
   "source": [
    "# Week 5 Lab Assignment: Evaluating Model Fit, Scoring, Reporting"
   ]
  },
  {
   "cell_type": "markdown",
   "metadata": {},
   "source": [
    "### Objective\n",
    "In this lab, you will learn how to evaluate the fit of a regression model using various metrics and visual tools. You will calculate R-squared, MSE, RMSE, and perform residual analysis to assess model performance."
   ]
  },
  {
   "cell_type": "markdown",
   "metadata": {},
   "source": [
    "### 1. Setup and Installations\n",
    "**Objective:** Ensure all necessary packages are installed and imported for the lab.\n",
    "\n",
    "**Tasks:**\n",
    "1. Install required Python packages: pandas, scikit-learn, matplotlib, numpy."
   ]
  },
  {
   "cell_type": "code",
   "execution_count": 1,
   "metadata": {},
   "outputs": [
    {
     "name": "stdout",
     "output_type": "stream",
     "text": [
      "Defaulting to user installation because normal site-packages is not writeableNote: you may need to restart the kernel to use updated packages.\n",
      "\n",
      "Requirement already satisfied: pandas in c:\\users\\jason\\appdata\\roaming\\python\\python39\\site-packages (2.2.2)\n",
      "Requirement already satisfied: scikit-learn in c:\\users\\jason\\appdata\\roaming\\python\\python39\\site-packages (1.5.1)\n",
      "Requirement already satisfied: matplotlib in c:\\users\\jason\\appdata\\roaming\\python\\python39\\site-packages (3.9.2)\n",
      "Requirement already satisfied: numpy in c:\\users\\jason\\appdata\\roaming\\python\\python39\\site-packages (1.26.4)\n",
      "Requirement already satisfied: python-dateutil>=2.8.2 in c:\\users\\jason\\appdata\\roaming\\python\\python39\\site-packages (from pandas) (2.9.0.post0)\n",
      "Requirement already satisfied: pytz>=2020.1 in c:\\users\\jason\\appdata\\roaming\\python\\python39\\site-packages (from pandas) (2024.1)\n",
      "Requirement already satisfied: tzdata>=2022.7 in c:\\users\\jason\\appdata\\roaming\\python\\python39\\site-packages (from pandas) (2024.1)\n",
      "Requirement already satisfied: scipy>=1.6.0 in c:\\users\\jason\\appdata\\roaming\\python\\python39\\site-packages (from scikit-learn) (1.13.1)\n",
      "Requirement already satisfied: joblib>=1.2.0 in c:\\users\\jason\\appdata\\roaming\\python\\python39\\site-packages (from scikit-learn) (1.4.2)\n",
      "Requirement already satisfied: threadpoolctl>=3.1.0 in c:\\users\\jason\\appdata\\roaming\\python\\python39\\site-packages (from scikit-learn) (3.5.0)\n",
      "Requirement already satisfied: contourpy>=1.0.1 in c:\\users\\jason\\appdata\\roaming\\python\\python39\\site-packages (from matplotlib) (1.2.1)\n",
      "Requirement already satisfied: cycler>=0.10 in c:\\users\\jason\\appdata\\roaming\\python\\python39\\site-packages (from matplotlib) (0.12.1)\n",
      "Requirement already satisfied: fonttools>=4.22.0 in c:\\users\\jason\\appdata\\roaming\\python\\python39\\site-packages (from matplotlib) (4.53.1)\n",
      "Requirement already satisfied: kiwisolver>=1.3.1 in c:\\users\\jason\\appdata\\roaming\\python\\python39\\site-packages (from matplotlib) (1.4.5)\n",
      "Requirement already satisfied: packaging>=20.0 in c:\\users\\jason\\appdata\\roaming\\python\\python39\\site-packages (from matplotlib) (24.1)\n",
      "Requirement already satisfied: pillow>=8 in c:\\users\\jason\\appdata\\roaming\\python\\python39\\site-packages (from matplotlib) (10.4.0)\n",
      "Requirement already satisfied: pyparsing>=2.3.1 in c:\\users\\jason\\appdata\\roaming\\python\\python39\\site-packages (from matplotlib) (3.1.2)\n",
      "Requirement already satisfied: importlib-resources>=3.2.0 in c:\\users\\jason\\appdata\\roaming\\python\\python39\\site-packages (from matplotlib) (6.4.0)\n",
      "Requirement already satisfied: zipp>=3.1.0 in c:\\users\\jason\\appdata\\roaming\\python\\python39\\site-packages (from importlib-resources>=3.2.0->matplotlib) (3.20.0)\n",
      "Requirement already satisfied: six>=1.5 in c:\\users\\jason\\appdata\\roaming\\python\\python39\\site-packages (from python-dateutil>=2.8.2->pandas) (1.16.0)\n"
     ]
    }
   ],
   "source": [
    "# Install necessary packages\n",
    "%pip install pandas scikit-learn matplotlib numpy"
   ]
  },
  {
   "cell_type": "markdown",
   "metadata": {},
   "source": [
    "### 2. Import Libraries\n",
    "**Objective:** Import all necessary libraries for data manipulation, modeling, and evaluation.\n"
   ]
  },
  {
   "cell_type": "code",
   "execution_count": 2,
   "metadata": {},
   "outputs": [],
   "source": [
    "# Import necessary packages\n",
    "import pandas as pd\n",
    "import numpy as np\n",
    "import matplotlib.pyplot as plt\n",
    "from sklearn.model_selection import train_test_split\n",
    "from sklearn.linear_model import LinearRegression\n",
    "from sklearn.metrics import r2_score, mean_squared_error\n",
    "%matplotlib inline"
   ]
  },
  {
   "cell_type": "markdown",
   "metadata": {},
   "source": [
    "### 3. Load and Explore Dataset\n",
    "**Objective:** Gain a preliminary understanding of the dataset to be used for modeling.\n",
    "\n",
    "**Tasks:**\n",
    "1. **Load the Dataset:** Import the dataset into a Pandas DataFrame.\n",
    "2. **Inspect the Data:** Use Pandas functions to inspect the first few rows, check for missing values, and understand the data types.\n",
    "3. **Summary Statistics:** Generate summary statistics for numerical columns."
   ]
  },
  {
   "cell_type": "code",
   "execution_count": 3,
   "metadata": {},
   "outputs": [
    {
     "name": "stdout",
     "output_type": "stream",
     "text": [
      "   Age  Income Category  Number_of_Purchases  Target  Continuous_Target\n",
      "0   25   50000        A                    3       0             100500\n",
      "1   45   80000        B                    8       1             160800\n",
      "2   30   54000        A                    4       0             109080\n",
      "3   35   60000        C                    2       1             121200\n",
      "4   50   95000        B                    7       1             191950\n",
      "Age                    0\n",
      "Income                 0\n",
      "Category               0\n",
      "Number_of_Purchases    0\n",
      "Target                 0\n",
      "Continuous_Target      0\n",
      "dtype: int64\n",
      "             Age         Income  Number_of_Purchases     Target  \\\n",
      "count  30.000000      30.000000            30.000000  30.000000   \n",
      "mean   39.200000   71300.000000             5.033333   0.666667   \n",
      "std    10.018603   17078.217625             2.220334   0.479463   \n",
      "min    22.000000   49000.000000             1.000000   0.000000   \n",
      "25%    31.250000   56500.000000             3.000000   0.000000   \n",
      "50%    38.500000   70500.000000             5.000000   1.000000   \n",
      "75%    46.750000   81750.000000             7.000000   1.000000   \n",
      "max    60.000000  120000.000000             9.000000   1.000000   \n",
      "\n",
      "       Continuous_Target  \n",
      "count          30.000000  \n",
      "mean       143733.000000  \n",
      "std         34794.866561  \n",
      "min         98340.000000  \n",
      "25%        113875.000000  \n",
      "50%        141705.000000  \n",
      "75%        165067.500000  \n",
      "max        241200.000000  \n"
     ]
    }
   ],
   "source": [
    "# Load the dataset\n",
    "df = pd.read_csv('customer_behavior.csv')\n",
    "\n",
    "# Inspect the first few rows\n",
    "print(df.head())\n",
    "\n",
    "# Check for missing values\n",
    "print(df.isnull().sum())\n",
    "\n",
    "# Generate summary statistics\n",
    "print(df.describe())"
   ]
  },
  {
   "cell_type": "markdown",
   "metadata": {},
   "source": [
    "### 4. Data Preparation\n",
    "**Objective:** Prepare the data for modeling by handling missing values and encoding categorical variables.\n",
    "\n",
    "**Tasks:**\n",
    "1. **Handle Missing Values:** Deal with any missing values in the dataset.\n",
    "2. **Encode Categorical Variables:** Convert categorical variables into numerical format using techniques like one-hot encoding.\n",
    "3. **Train-Test Split:** Split the data into training and testing sets."
   ]
  },
  {
   "cell_type": "code",
   "execution_count": 4,
   "metadata": {},
   "outputs": [
    {
     "name": "stdout",
     "output_type": "stream",
     "text": [
      "Training set size: (21, 6)\n",
      "Test set size: (9, 6)\n"
     ]
    }
   ],
   "source": [
    "# Handle missing values\n",
    "df = df.dropna()\n",
    "\n",
    "# Encode categorical variables (if necessary)\n",
    "df = pd.get_dummies(df, drop_first=True)\n",
    "\n",
    "# Split the data into training and testing sets\n",
    "X = df.drop('Continuous_Target', axis=1)\n",
    "y = df['Continuous_Target']\n",
    "X_train, X_test, y_train, y_test = train_test_split(X, y, test_size=0.3, random_state=42)\n",
    "print(f'Training set size: {X_train.shape}')\n",
    "print(f'Test set size: {X_test.shape}')"
   ]
  },
  {
   "cell_type": "markdown",
   "metadata": {},
   "source": [
    "### 5. Implementing and Evaluating Linear Regression\n",
    "**Objective:** Build and evaluate a multiple linear regression model on the dataset.\n",
    "\n",
    "**Tasks:**\n",
    "1. **Build the Model:** Create a multiple linear regression model using Scikit-learn.\n",
    "2. **Train the Model:** Train the model on the training data.\n",
    "3. **Evaluate the Model:** Use R-squared, MSE, and RMSE to evaluate the model's performance."
   ]
  },
  {
   "cell_type": "code",
   "execution_count": 5,
   "metadata": {},
   "outputs": [
    {
     "name": "stdout",
     "output_type": "stream",
     "text": [
      "R-squared: 0.9992198074126457\n",
      "Mean Squared Error: 893925.300476792\n",
      "Root Mean Squared Error: 945.4762294615301\n"
     ]
    }
   ],
   "source": [
    "# Build and train the Linear Regression model\n",
    "linear_model = LinearRegression()\n",
    "linear_model.fit(X_train, y_train)\n",
    "\n",
    "# Make predictions\n",
    "predictions = linear_model.predict(X_test)\n",
    "\n",
    "# Evaluate the model\n",
    "r2 = r2_score(y_test, predictions)\n",
    "mse = mean_squared_error(y_test, predictions)\n",
    "rmse = np.sqrt(mse)\n",
    "print(f'R-squared: {r2}')\n",
    "print(f'Mean Squared Error: {mse}')\n",
    "print(f'Root Mean Squared Error: {rmse}')"
   ]
  },
  {
   "cell_type": "markdown",
   "metadata": {},
   "source": [
    "### 6. Residual Analysis\n",
    "**Objective:** Perform residual analysis to assess model fit.\n",
    "\n",
    "**Tasks:**\n",
    "1. **Plot Residuals:** Plot residuals to visually inspect the fit.\n",
    "2. **Interpret Residual Plots:** Analyze the residual plots to identify any patterns or biases."
   ]
  },
  {
   "cell_type": "code",
   "execution_count": 6,
   "metadata": {},
   "outputs": [
    {
     "data": {
      "image/png": "[encoded data removed]",
      "text/plain": [
       "<Figure size 1000x600 with 1 Axes>"
      ]
     },
     "metadata": {},
     "output_type": "display_data"
    }
   ],
   "source": [
    "# Plot residuals\n",
    "residuals = y_test - predictions\n",
    "plt.figure(figsize=(10, 6))\n",
    "plt.scatter(predictions, residuals)\n",
    "plt.axhline(y=0, color='r', linestyle='--')\n",
    "plt.xlabel('Predicted Values')\n",
    "plt.ylabel('Residuals')\n",
    "plt.title('Residual Plot')\n",
    "plt.show()"
   ]
  },
  {
   "cell_type": "markdown",
   "metadata": {},
   "source": [
    "### 7. Generating Reports\n",
    "**Objective:** Generate a report summarizing model performance and residual analysis.\n",
    "\n",
    "**Tasks:**\n",
    "1. **Summary Report:** Use Python to generate a summary report including all metrics and residual plots.\n",
    "2. **Discussion:** Discuss the model's performance and potential areas of improvement."
   ]
  },
  {
   "cell_type": "code",
   "execution_count": 7,
   "metadata": {},
   "outputs": [
    {
     "name": "stdout",
     "output_type": "stream",
     "text": [
      "\n",
      "Model Performance Report\n",
      "-------------------------\n",
      "R-squared: 0.9992198074126457\n",
      "Mean Squared Error: 893925.300476792\n",
      "Root Mean Squared Error: 945.4762294615301\n",
      "\n",
      "Residual Analysis:\n",
      "- Check the residual plot for patterns.\n",
      "- Ideally, residuals should be randomly distributed around zero.\n",
      "Recommendations:\n",
      "- Consider model improvements if residuals show patterns.\n",
      "- Possible improvements include feature engineering or model regularization.\n",
      "\n"
     ]
    }
   ],
   "source": [
    "# Generate a summary report\n",
    "report = f\"\"\"\n",
    "Model Performance Report\n",
    "-------------------------\n",
    "R-squared: {r2}\n",
    "Mean Squared Error: {mse}\n",
    "Root Mean Squared Error: {rmse}\n",
    "\n",
    "Residual Analysis:\n",
    "- Check the residual plot for patterns.\n",
    "- Ideally, residuals should be randomly distributed around zero.\n",
    "Recommendations:\n",
    "- Consider model improvements if residuals show patterns.\n",
    "- Possible improvements include feature engineering or model regularization.\n",
    "\"\"\"\n",
    "print(report)"
   ]
  },
  {
   "cell_type": "markdown",
   "metadata": {},
   "source": [
    "### 8. Submission\n",
    "**Deliverables:**\n",
    "- Jupyter Notebook (.ipynb) with all code, model evaluations, and residual analysis.\n",
    "- A brief report summarizing the findings, including the evaluation metrics and residual analysis.\n",
    "\n",
    "**Deadline:** Submit your completed notebook and report to the course portal by end of class."
   ]
  }
 ],
 "metadata": {
  "kernelspec": {
   "display_name": "Python 3",
   "language": "python",
   "name": "python3"
  },
  "language_info": {
   "codemirror_mode": {
    "name": "ipython",
    "version": 3
   },
   "file_extension": ".py",
   "mimetype": "text/x-python",
   "name": "python",
   "nbconvert_exporter": "python",
   "pygments_lexer": "ipython3",
   "version": "3.9.13"
  }
 },
 "nbformat": 4,
 "nbformat_minor": 4
}
